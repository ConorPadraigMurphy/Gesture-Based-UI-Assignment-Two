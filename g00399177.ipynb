{
 "cells": [
  {
   "cell_type": "markdown",
   "metadata": {},
   "source": [
    "# Assignment 2 - Gesture Based UI"
   ]
  },
  {
   "cell_type": "code",
   "execution_count": 1,
   "metadata": {},
   "outputs": [
    {
     "name": "stdout",
     "output_type": "stream",
     "text": [
      "2.10.0\n",
      "[PhysicalDevice(name='/physical_device:GPU:0', device_type='GPU')]\n"
     ]
    }
   ],
   "source": [
    "import numpy as np\n",
    "import pandas as pd\n",
    "import tensorflow as tf\n",
    "import os\n",
    "from PIL import Image\n",
    "from tensorflow.keras import layers\n",
    "from sklearn.model_selection import train_test_split\n",
    "print(tf.__version__)\n",
    "print(tf.config.list_physical_devices('GPU'))"
   ]
  },
  {
   "cell_type": "code",
   "execution_count": 2,
   "metadata": {},
   "outputs": [],
   "source": [
    "# Define constants\n",
    "IMAGE_SIZE = (128, 128)\n",
    "BATCH_SIZE = 32\n",
    "DATASET_PATH = \"hagridset\"\n",
    "SEED = 399177"
   ]
  },
  {
   "cell_type": "code",
   "execution_count": 3,
   "metadata": {},
   "outputs": [
    {
     "name": "stdout",
     "output_type": "stream",
     "text": [
      "Found 125912 files belonging to 18 classes.\n",
      "Using 88139 files for training.\n",
      "Found 125912 files belonging to 18 classes.\n",
      "Using 37773 files for validation.\n"
     ]
    }
   ],
   "source": [
    "train_dataset = tf.keras.utils.image_dataset_from_directory(DATASET_PATH,\n",
    "                                                            shuffle=True,\n",
    "                                                            image_size=IMAGE_SIZE, validation_split=0.3\n",
    "                                                           , subset='training', label_mode='categorical', \n",
    "                                                           seed=SEED, batch_size=BATCH_SIZE)\n",
    "\n",
    "validation_and_test_dataset = tf.keras.utils.image_dataset_from_directory(DATASET_PATH,\n",
    "                                                            shuffle=True,\n",
    "                                                            image_size=IMAGE_SIZE, validation_split=0.3\n",
    "                                                           , subset='validation',label_mode='categorical',\n",
    "                                                           seed=SEED, batch_size=BATCH_SIZE)\n",
    "\n",
    "val_batches = tf.data.experimental.cardinality(validation_and_test_dataset)\n",
    "\n",
    "test_dataset = validation_and_test_dataset.take((2*val_batches) // 3)\n",
    "validation_dataset = validation_and_test_dataset.skip((2*val_batches) // 3)\n"
   ]
  },
  {
   "cell_type": "code",
   "execution_count": 4,
   "metadata": {},
   "outputs": [
    {
     "name": "stdout",
     "output_type": "stream",
     "text": [
      "Classes:  18\n"
     ]
    }
   ],
   "source": [
    "# Get the number of classes from the data generator\n",
    "NUM_CLASSES = len(train_dataset.class_names)\n",
    "print(\"Classes: \",NUM_CLASSES)"
   ]
  },
  {
   "cell_type": "code",
   "execution_count": 5,
   "metadata": {},
   "outputs": [],
   "source": [
    "data_augmentation_layers = tf.keras.Sequential([\n",
    "    # layers.RandomFlip(\"horizontal\"),\n",
    "    # layers.RandomRotation(0.1),\n",
    "])"
   ]
  },
  {
   "cell_type": "code",
   "execution_count": 6,
   "metadata": {},
   "outputs": [],
   "source": [
    "# CNN model from scratch\n",
    "model = tf.keras.models.Sequential()\n",
    "model.add(tf.keras.Input(shape=(IMAGE_SIZE[0], IMAGE_SIZE[1],3)))\n",
    "model.add(data_augmentation_layers)\n",
    "model.add(layers.Rescaling(1./255))\n",
    "model.add(layers.Conv2D(16, 3, padding='same', activation='relu'))\n",
    "model.add(layers.MaxPooling2D())\n",
    "model.add(layers.Conv2D(32, 3, padding='same', activation='relu'))\n",
    "model.add(layers.MaxPooling2D())\n",
    "model.add(layers.Conv2D(64, 3, padding='same', activation='relu'))\n",
    "model.add(layers.MaxPooling2D())\n",
    "model.add(layers.Flatten())\n",
    "model.add(layers.Dense(128, activation='relu'))\n",
    "model.add(layers.Dense(NUM_CLASSES, activation='softmax'))\n",
    "\n",
    "# Compile the model\n",
    "model.compile(optimizer=tf.keras.optimizers.Adam(),\n",
    "              loss=tf.keras.losses.CategoricalCrossentropy(from_logits=False),\n",
    "              metrics=['accuracy'])"
   ]
  },
  {
   "cell_type": "code",
   "execution_count": 7,
   "metadata": {},
   "outputs": [],
   "source": [
    "callback = tf.keras.callbacks.EarlyStopping(monitor='val_loss', patience=5, restore_best_weights=True)"
   ]
  },
  {
   "cell_type": "code",
   "execution_count": 8,
   "metadata": {},
   "outputs": [
    {
     "name": "stdout",
     "output_type": "stream",
     "text": [
      "Epoch 1/10\n",
      "2755/2755 [==============================] - 37s 13ms/step - loss: 2.0995 - accuracy: 0.3275 - val_loss: 1.5349 - val_accuracy: 0.5009\n",
      "Epoch 2/10\n",
      "2755/2755 [==============================] - 32s 12ms/step - loss: 1.2556 - accuracy: 0.5956 - val_loss: 1.2187 - val_accuracy: 0.6056\n",
      "Epoch 3/10\n",
      "2755/2755 [==============================] - 31s 11ms/step - loss: 0.8928 - accuracy: 0.7101 - val_loss: 1.1490 - val_accuracy: 0.6420\n",
      "Epoch 4/10\n",
      "2755/2755 [==============================] - 31s 11ms/step - loss: 0.6536 - accuracy: 0.7862 - val_loss: 1.3003 - val_accuracy: 0.6392\n",
      "Epoch 5/10\n",
      "2755/2755 [==============================] - 30s 11ms/step - loss: 0.4739 - accuracy: 0.8437 - val_loss: 1.5476 - val_accuracy: 0.6421\n",
      "Epoch 6/10\n",
      "2755/2755 [==============================] - 30s 11ms/step - loss: 0.3481 - accuracy: 0.8824 - val_loss: 1.7294 - val_accuracy: 0.6354\n",
      "Epoch 7/10\n",
      "2755/2755 [==============================] - 32s 11ms/step - loss: 0.2715 - accuracy: 0.9073 - val_loss: 2.0034 - val_accuracy: 0.6294\n",
      "Epoch 8/10\n",
      "2755/2755 [==============================] - 31s 11ms/step - loss: 0.2233 - accuracy: 0.9253 - val_loss: 2.3077 - val_accuracy: 0.6313\n"
     ]
    },
    {
     "data": {
      "text/plain": [
       "<keras.callbacks.History at 0x1c685b08b20>"
      ]
     },
     "execution_count": 8,
     "metadata": {},
     "output_type": "execute_result"
    }
   ],
   "source": [
    "model.fit(train_dataset,  validation_data=(validation_dataset), epochs=10, callbacks=[callback])"
   ]
  },
  {
   "cell_type": "markdown",
   "metadata": {},
   "source": [
    "64x64: With the contrast at 0.5 epoch tens accuracy was 0.5199 </br>\n",
    "64x64: with just flipping and rotation it had an accuracy of 0.5697</br>\n",
    "\n"
   ]
  },
  {
   "cell_type": "code",
   "execution_count": 9,
   "metadata": {},
   "outputs": [
    {
     "name": "stdout",
     "output_type": "stream",
     "text": [
      "787/787 [==============================] - 5s 6ms/step - loss: 1.1444 - accuracy: 0.6447\n"
     ]
    },
    {
     "data": {
      "text/plain": [
       "{'loss': 1.1443893909454346, 'accuracy': 0.6446950435638428}"
      ]
     },
     "execution_count": 9,
     "metadata": {},
     "output_type": "execute_result"
    }
   ],
   "source": [
    "model.evaluate(test_dataset, return_dict=True)"
   ]
  },
  {
   "cell_type": "code",
   "execution_count": 10,
   "metadata": {},
   "outputs": [
    {
     "data": {
      "text/plain": [
       "['call',\n",
       " 'dislike',\n",
       " 'fist',\n",
       " 'four',\n",
       " 'like',\n",
       " 'mute',\n",
       " 'ok',\n",
       " 'one',\n",
       " 'palm',\n",
       " 'peace',\n",
       " 'peace_inverted',\n",
       " 'rock',\n",
       " 'stop',\n",
       " 'stop_inverted',\n",
       " 'three',\n",
       " 'three2',\n",
       " 'two_up',\n",
       " 'two_up_inverted']"
      ]
     },
     "execution_count": 10,
     "metadata": {},
     "output_type": "execute_result"
    }
   ],
   "source": [
    "class_names = train_dataset.class_names\n"
   ]
  },
  {
   "cell_type": "code",
   "execution_count": 11,
   "metadata": {},
   "outputs": [
    {
     "name": "stdout",
     "output_type": "stream",
     "text": [
      "1/1 [==============================] - 0s 78ms/step\n"
     ]
    },
    {
     "data": {
      "text/plain": [
       "0    stop\n",
       "dtype: object"
      ]
     },
     "execution_count": 11,
     "metadata": {},
     "output_type": "execute_result"
    }
   ],
   "source": [
    "image = np.array(Image.open(\"MyHandStop.jpg\").resize((IMAGE_SIZE[0],IMAGE_SIZE[1])))\n",
    "image = image.reshape(1,IMAGE_SIZE[0],IMAGE_SIZE[1],3)\n",
    "\n",
    "ans = model.predict(image)\n",
    "pd.DataFrame(ans, columns=class_names).idxmax(axis=1)"
   ]
  },
  {
   "cell_type": "markdown",
   "metadata": {},
   "source": [
    "# Transfer Learning"
   ]
  },
  {
   "cell_type": "code",
   "execution_count": 12,
   "metadata": {},
   "outputs": [],
   "source": [
    "inputs = tf.keras.Input(shape=(IMAGE_SIZE[0], IMAGE_SIZE[1],3))"
   ]
  },
  {
   "cell_type": "code",
   "execution_count": 13,
   "metadata": {},
   "outputs": [],
   "source": [
    "base_model = tf.keras.applications.VGG16(\n",
    "    weights='imagenet',  # Load weights pre-trained on ImageNet.\n",
    "    input_shape=(IMAGE_SIZE[0], IMAGE_SIZE[1],3),\n",
    "    include_top=False)\n",
    "base_model.trainable = False\n",
    "x = data_augmentation_layers(inputs)\n",
    "x = tf.keras.applications.xception.preprocess_input(x)\n",
    "x = base_model(x, training=False)\n",
    "x = tf.keras.layers.GlobalAveragePooling2D()(x)\n",
    "x = tf.keras.layers.Dropout(0.2)(x)\n",
    "outputs = tf.keras.layers.Dense(NUM_CLASSES)(x)\n",
    "model = tf.keras.Model(inputs, outputs)"
   ]
  },
  {
   "cell_type": "code",
   "execution_count": 14,
   "metadata": {},
   "outputs": [],
   "source": [
    "model.compile(optimizer=tf.keras.optimizers.Adam(),\n",
    "              loss=tf.keras.losses.CategoricalCrossentropy(from_logits=True),\n",
    "              metrics=['accuracy'])"
   ]
  },
  {
   "cell_type": "code",
   "execution_count": 15,
   "metadata": {},
   "outputs": [],
   "source": [
    "callback = tf.keras.callbacks.EarlyStopping(monitor='val_loss', patience=5, restore_best_weights=True)"
   ]
  },
  {
   "cell_type": "code",
   "execution_count": 16,
   "metadata": {},
   "outputs": [
    {
     "name": "stdout",
     "output_type": "stream",
     "text": [
      "Epoch 1/10\n",
      "2755/2755 [==============================] - 79s 28ms/step - loss: 2.0949 - accuracy: 0.3710 - val_loss: 1.7748 - val_accuracy: 0.4699\n",
      "Epoch 2/10\n",
      "2755/2755 [==============================] - 75s 27ms/step - loss: 1.7500 - accuracy: 0.4600 - val_loss: 1.6227 - val_accuracy: 0.5110\n",
      "Epoch 3/10\n",
      "2755/2755 [==============================] - 76s 27ms/step - loss: 1.6737 - accuracy: 0.4800 - val_loss: 1.5605 - val_accuracy: 0.5261\n",
      "Epoch 4/10\n",
      "2755/2755 [==============================] - 74s 27ms/step - loss: 1.6384 - accuracy: 0.4890 - val_loss: 1.5236 - val_accuracy: 0.5365\n",
      "Epoch 5/10\n",
      "2755/2755 [==============================] - 75s 27ms/step - loss: 1.6214 - accuracy: 0.4916 - val_loss: 1.5028 - val_accuracy: 0.5380\n",
      "Epoch 6/10\n",
      "2755/2755 [==============================] - 74s 27ms/step - loss: 1.6119 - accuracy: 0.4940 - val_loss: 1.4903 - val_accuracy: 0.5417\n",
      "Epoch 7/10\n",
      "2755/2755 [==============================] - 75s 27ms/step - loss: 1.6011 - accuracy: 0.4978 - val_loss: 1.4748 - val_accuracy: 0.5483\n",
      "Epoch 8/10\n",
      "2755/2755 [==============================] - 75s 27ms/step - loss: 1.5966 - accuracy: 0.5000 - val_loss: 1.4722 - val_accuracy: 0.5460\n",
      "Epoch 9/10\n",
      "2755/2755 [==============================] - 75s 27ms/step - loss: 1.5934 - accuracy: 0.4985 - val_loss: 1.4663 - val_accuracy: 0.5475\n",
      "Epoch 10/10\n",
      "2755/2755 [==============================] - 74s 27ms/step - loss: 1.5890 - accuracy: 0.5013 - val_loss: 1.4554 - val_accuracy: 0.5518\n"
     ]
    },
    {
     "data": {
      "text/plain": [
       "<keras.callbacks.History at 0x1c6d6802e90>"
      ]
     },
     "execution_count": 16,
     "metadata": {},
     "output_type": "execute_result"
    }
   ],
   "source": [
    "model.fit(train_dataset,  validation_data=(validation_dataset), epochs=10, callbacks=[callback])"
   ]
  },
  {
   "cell_type": "code",
   "execution_count": 17,
   "metadata": {},
   "outputs": [
    {
     "name": "stdout",
     "output_type": "stream",
     "text": [
      "787/787 [==============================] - 18s 22ms/step - loss: 1.4532 - accuracy: 0.5502\n"
     ]
    },
    {
     "data": {
      "text/plain": [
       "{'loss': 1.4532345533370972, 'accuracy': 0.5502303242683411}"
      ]
     },
     "execution_count": 17,
     "metadata": {},
     "output_type": "execute_result"
    }
   ],
   "source": [
    "model.evaluate(test_dataset, return_dict=True)"
   ]
  },
  {
   "cell_type": "markdown",
   "metadata": {},
   "source": [
    "epoch ten transfer learning: val_accuracy: 0.3462"
   ]
  }
 ],
 "metadata": {
  "kernelspec": {
   "display_name": "base",
   "language": "python",
   "name": "python3"
  },
  "language_info": {
   "codemirror_mode": {
    "name": "ipython",
    "version": 3
   },
   "file_extension": ".py",
   "mimetype": "text/x-python",
   "name": "python",
   "nbconvert_exporter": "python",
   "pygments_lexer": "ipython3",
   "version": "3.10.14"
  }
 },
 "nbformat": 4,
 "nbformat_minor": 2
}
